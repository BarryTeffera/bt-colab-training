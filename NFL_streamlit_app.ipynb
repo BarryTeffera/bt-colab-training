{
  "nbformat": 4,
  "nbformat_minor": 0,
  "metadata": {
    "colab": {
      "provenance": [],
      "authorship_tag": "ABX9TyMGXh9FqU7phcq3uhnd44ua",
      "include_colab_link": true
    },
    "kernelspec": {
      "name": "python3",
      "display_name": "Python 3"
    },
    "language_info": {
      "name": "python"
    }
  },
  "cells": [
    {
      "cell_type": "markdown",
      "metadata": {
        "id": "view-in-github",
        "colab_type": "text"
      },
      "source": [
        "<a href=\"https://colab.research.google.com/github/bgteffera/bt-colab-training/blob/main/NFL_streamlit_app.ipynb\" target=\"_parent\"><img src=\"https://colab.research.google.com/assets/colab-badge.svg\" alt=\"Open In Colab\"/></a>"
      ]
    },
    {
      "cell_type": "code",
      "execution_count": null,
      "metadata": {
        "colab": {
          "base_uri": "https://localhost:8080/"
        },
        "id": "Cgl9RCRcS8tY",
        "outputId": "22a56a96-03a4-4d53-e234-f82d9aba3954"
      },
      "outputs": [
        {
          "output_type": "stream",
          "name": "stdout",
          "text": [
            "Looking in indexes: https://pypi.org/simple, https://us-python.pkg.dev/colab-wheels/public/simple/\n",
            "Collecting streamlit\n",
            "  Downloading streamlit-1.13.0-py2.py3-none-any.whl (9.2 MB)\n",
            "\u001b[K     |████████████████████████████████| 9.2 MB 9.2 MB/s \n",
            "\u001b[?25hRequirement already satisfied: tzlocal>=1.1 in /usr/local/lib/python3.7/dist-packages (from streamlit) (1.5.1)\n",
            "Requirement already satisfied: pyarrow>=4.0 in /usr/local/lib/python3.7/dist-packages (from streamlit) (6.0.1)\n",
            "Collecting blinker>=1.0.0\n",
            "  Downloading blinker-1.5-py2.py3-none-any.whl (12 kB)\n",
            "Requirement already satisfied: protobuf!=3.20.2,<4,>=3.12 in /usr/local/lib/python3.7/dist-packages (from streamlit) (3.17.3)\n",
            "Requirement already satisfied: pillow>=6.2.0 in /usr/local/lib/python3.7/dist-packages (from streamlit) (7.1.2)\n",
            "Collecting gitpython!=3.1.19\n",
            "  Downloading GitPython-3.1.27-py3-none-any.whl (181 kB)\n",
            "\u001b[K     |████████████████████████████████| 181 kB 47.5 MB/s \n",
            "\u001b[?25hRequirement already satisfied: click>=7.0 in /usr/local/lib/python3.7/dist-packages (from streamlit) (7.1.2)\n",
            "Requirement already satisfied: altair>=3.2.0 in /usr/local/lib/python3.7/dist-packages (from streamlit) (4.2.0)\n",
            "Collecting watchdog\n",
            "  Downloading watchdog-2.1.9-py3-none-manylinux2014_x86_64.whl (78 kB)\n",
            "\u001b[K     |████████████████████████████████| 78 kB 7.0 MB/s \n",
            "\u001b[?25hCollecting semver\n",
            "  Downloading semver-2.13.0-py2.py3-none-any.whl (12 kB)\n",
            "Requirement already satisfied: numpy in /usr/local/lib/python3.7/dist-packages (from streamlit) (1.21.6)\n",
            "Collecting rich>=10.11.0\n",
            "  Downloading rich-12.6.0-py3-none-any.whl (237 kB)\n",
            "\u001b[K     |████████████████████████████████| 237 kB 56.2 MB/s \n",
            "\u001b[?25hRequirement already satisfied: pandas>=0.21.0 in /usr/local/lib/python3.7/dist-packages (from streamlit) (1.3.5)\n",
            "Requirement already satisfied: tornado>=5.0 in /usr/local/lib/python3.7/dist-packages (from streamlit) (5.1.1)\n",
            "Requirement already satisfied: requests>=2.4 in /usr/local/lib/python3.7/dist-packages (from streamlit) (2.23.0)\n",
            "Requirement already satisfied: importlib-metadata>=1.4 in /usr/local/lib/python3.7/dist-packages (from streamlit) (4.12.0)\n",
            "Requirement already satisfied: toml in /usr/local/lib/python3.7/dist-packages (from streamlit) (0.10.2)\n",
            "Collecting pydeck>=0.1.dev5\n",
            "  Downloading pydeck-0.8.0b3-py2.py3-none-any.whl (4.7 MB)\n",
            "\u001b[K     |████████████████████████████████| 4.7 MB 42.2 MB/s \n",
            "\u001b[?25hRequirement already satisfied: python-dateutil in /usr/local/lib/python3.7/dist-packages (from streamlit) (2.8.2)\n",
            "Requirement already satisfied: packaging>=14.1 in /usr/local/lib/python3.7/dist-packages (from streamlit) (21.3)\n",
            "Collecting validators>=0.2\n",
            "  Downloading validators-0.20.0.tar.gz (30 kB)\n",
            "Requirement already satisfied: cachetools>=4.0 in /usr/local/lib/python3.7/dist-packages (from streamlit) (4.2.4)\n",
            "Collecting pympler>=0.9\n",
            "  Downloading Pympler-1.0.1-py3-none-any.whl (164 kB)\n",
            "\u001b[K     |████████████████████████████████| 164 kB 50.9 MB/s \n",
            "\u001b[?25hRequirement already satisfied: typing-extensions>=3.10.0.0 in /usr/local/lib/python3.7/dist-packages (from streamlit) (4.1.1)\n",
            "Requirement already satisfied: entrypoints in /usr/local/lib/python3.7/dist-packages (from altair>=3.2.0->streamlit) (0.4)\n",
            "Requirement already satisfied: jinja2 in /usr/local/lib/python3.7/dist-packages (from altair>=3.2.0->streamlit) (2.11.3)\n",
            "Requirement already satisfied: jsonschema>=3.0 in /usr/local/lib/python3.7/dist-packages (from altair>=3.2.0->streamlit) (4.3.3)\n",
            "Requirement already satisfied: toolz in /usr/local/lib/python3.7/dist-packages (from altair>=3.2.0->streamlit) (0.12.0)\n",
            "Collecting gitdb<5,>=4.0.1\n",
            "  Downloading gitdb-4.0.9-py3-none-any.whl (63 kB)\n",
            "\u001b[K     |████████████████████████████████| 63 kB 1.4 MB/s \n",
            "\u001b[?25hCollecting smmap<6,>=3.0.1\n",
            "  Downloading smmap-5.0.0-py3-none-any.whl (24 kB)\n",
            "Requirement already satisfied: zipp>=0.5 in /usr/local/lib/python3.7/dist-packages (from importlib-metadata>=1.4->streamlit) (3.8.1)\n",
            "Requirement already satisfied: pyrsistent!=0.17.0,!=0.17.1,!=0.17.2,>=0.14.0 in /usr/local/lib/python3.7/dist-packages (from jsonschema>=3.0->altair>=3.2.0->streamlit) (0.18.1)\n",
            "Requirement already satisfied: importlib-resources>=1.4.0 in /usr/local/lib/python3.7/dist-packages (from jsonschema>=3.0->altair>=3.2.0->streamlit) (5.9.0)\n",
            "Requirement already satisfied: attrs>=17.4.0 in /usr/local/lib/python3.7/dist-packages (from jsonschema>=3.0->altair>=3.2.0->streamlit) (22.1.0)\n",
            "Requirement already satisfied: pyparsing!=3.0.5,>=2.0.2 in /usr/local/lib/python3.7/dist-packages (from packaging>=14.1->streamlit) (3.0.9)\n",
            "Requirement already satisfied: pytz>=2017.3 in /usr/local/lib/python3.7/dist-packages (from pandas>=0.21.0->streamlit) (2022.2.1)\n",
            "Requirement already satisfied: six>=1.9 in /usr/local/lib/python3.7/dist-packages (from protobuf!=3.20.2,<4,>=3.12->streamlit) (1.15.0)\n",
            "Requirement already satisfied: MarkupSafe>=0.23 in /usr/local/lib/python3.7/dist-packages (from jinja2->altair>=3.2.0->streamlit) (2.0.1)\n",
            "Requirement already satisfied: idna<3,>=2.5 in /usr/local/lib/python3.7/dist-packages (from requests>=2.4->streamlit) (2.10)\n",
            "Requirement already satisfied: certifi>=2017.4.17 in /usr/local/lib/python3.7/dist-packages (from requests>=2.4->streamlit) (2022.6.15)\n",
            "Requirement already satisfied: chardet<4,>=3.0.2 in /usr/local/lib/python3.7/dist-packages (from requests>=2.4->streamlit) (3.0.4)\n",
            "Requirement already satisfied: urllib3!=1.25.0,!=1.25.1,<1.26,>=1.21.1 in /usr/local/lib/python3.7/dist-packages (from requests>=2.4->streamlit) (1.24.3)\n",
            "Requirement already satisfied: pygments<3.0.0,>=2.6.0 in /usr/local/lib/python3.7/dist-packages (from rich>=10.11.0->streamlit) (2.6.1)\n",
            "Collecting commonmark<0.10.0,>=0.9.0\n",
            "  Downloading commonmark-0.9.1-py2.py3-none-any.whl (51 kB)\n",
            "\u001b[K     |████████████████████████████████| 51 kB 5.5 MB/s \n",
            "\u001b[?25hRequirement already satisfied: decorator>=3.4.0 in /usr/local/lib/python3.7/dist-packages (from validators>=0.2->streamlit) (4.4.2)\n",
            "Building wheels for collected packages: validators\n",
            "  Building wheel for validators (setup.py) ... \u001b[?25l\u001b[?25hdone\n",
            "  Created wheel for validators: filename=validators-0.20.0-py3-none-any.whl size=19582 sha256=bc2a3603ccf4a542a5deb3eedead2a68b6b9a4a998b116835a25f5dc17354a43\n",
            "  Stored in directory: /root/.cache/pip/wheels/5f/55/ab/36a76989f7f88d9ca7b1f68da6d94252bb6a8d6ad4f18e04e9\n",
            "Successfully built validators\n",
            "Installing collected packages: smmap, gitdb, commonmark, watchdog, validators, semver, rich, pympler, pydeck, gitpython, blinker, streamlit\n",
            "Successfully installed blinker-1.5 commonmark-0.9.1 gitdb-4.0.9 gitpython-3.1.27 pydeck-0.8.0b3 pympler-1.0.1 rich-12.6.0 semver-2.13.0 smmap-5.0.0 streamlit-1.13.0 validators-0.20.0 watchdog-2.1.9\n",
            "Looking in indexes: https://pypi.org/simple, https://us-python.pkg.dev/colab-wheels/public/simple/\n",
            "Collecting pyngrok==4.1.1\n",
            "  Downloading pyngrok-4.1.1.tar.gz (18 kB)\n",
            "Requirement already satisfied: future in /usr/local/lib/python3.7/dist-packages (from pyngrok==4.1.1) (0.16.0)\n",
            "Requirement already satisfied: PyYAML in /usr/local/lib/python3.7/dist-packages (from pyngrok==4.1.1) (6.0)\n",
            "Building wheels for collected packages: pyngrok\n",
            "  Building wheel for pyngrok (setup.py) ... \u001b[?25l\u001b[?25hdone\n",
            "  Created wheel for pyngrok: filename=pyngrok-4.1.1-py3-none-any.whl size=15983 sha256=bbca3b74031485ad2845bb7719ca395d3d93b594b2e72d5ccbac55fac613026c\n",
            "  Stored in directory: /root/.cache/pip/wheels/b1/d9/12/045a042fee3127dc40ba6f5df2798aa2df38c414bf533ca765\n",
            "Successfully built pyngrok\n",
            "Installing collected packages: pyngrok\n",
            "Successfully installed pyngrok-4.1.1\n"
          ]
        },
        {
          "output_type": "stream",
          "name": "stderr",
          "text": [
            "INFO:numexpr.utils:NumExpr defaulting to 2 threads.\n",
            "2022-10-04 02:52:59.751 INFO    numexpr.utils: NumExpr defaulting to 2 threads.\n"
          ]
        }
      ],
      "source": [
        "!pip install streamlit\n",
        "!pip install pyngrok==4.1.1\n",
        "\n",
        "import streamlit as st\n",
        "import pandas as pd\n",
        "import base64\n",
        "import matplotlib.pyplot as plt\n",
        "import seaborn as sns\n",
        "import numpy as np\n",
        "\n"
      ]
    },
    {
      "cell_type": "code",
      "source": [
        "%%writefile app.py\n",
        "\n",
        "\n",
        "\n",
        "import streamlit as st\n",
        "import pandas as pd\n",
        "import base64\n",
        "import matplotlib.pyplot as plt\n",
        "import seaborn as sns\n",
        "import numpy as np\n",
        "\n",
        "st.title('NFL Football Stats (Rushing) Explorer')\n",
        "\n",
        "st.markdown(\"\"\"\n",
        "This app performs simple webscraping of NFL Football player stats data (focusing on Rushing)!\n",
        "* **Python libraries:** base64, pandas, streamlit, numpy, matplotlib, seaborn\n",
        "* **Data source:** [pro-football-reference.com](https://www.pro-football-reference.com/).\n",
        "\"\"\")\n",
        "\n",
        "st.sidebar.header('User Input Features')\n",
        "selected_year = st.sidebar.selectbox('Year', list(reversed(range(1990,2020))))\n",
        "\n",
        "# Web scraping of NFL player stats\n",
        "# https://www.pro-football-reference.com/years/2019/rushing.htm\n",
        "\n",
        "def load_data(year):\n",
        "    url = \"https://www.pro-football-reference.com/years/\" + str(year) + \"/rushing.htm\"\n",
        "    html = pd.read_html(url, header = 1)\n",
        "    df = html[0]\n",
        "    raw = df.drop(df[df.Age == 'Age'].index) # Deletes repeating headers in content\n",
        "    raw = raw.fillna(0)\n",
        "    playerstats = raw.drop(['Rk'], axis=1)\n",
        "    return playerstats\n",
        "\n",
        "    \n",
        "playerstats = load_data(selected_year)\n",
        "\n",
        "# Sidebar - Team selection\n",
        "sorted_unique_team = sorted(playerstats.Tm.unique())\n",
        "selected_team = st.sidebar.multiselect('Team', sorted_unique_team, sorted_unique_team)\n",
        "\n",
        "# Sidebar - Position selection\n",
        "unique_pos = ['RB','QB','WR','FB','TE']\n",
        "selected_pos = st.sidebar.multiselect('Position', unique_pos, unique_pos)\n",
        "\n",
        "# Filtering data\n",
        "df_selected_team = playerstats[(playerstats.Tm.isin(selected_team)) & (playerstats.Pos.isin(selected_pos))]\n",
        "\n",
        "st.header('Display Player Stats of Selected Team(s)')\n",
        "st.write('Data Dimension: ' + str(df_selected_team.shape[0]) + ' rows and ' + str(df_selected_team.shape[1]) + ' columns.')\n",
        "st.dataframe(df_selected_team)\n",
        "\n",
        "# Download NBA player stats data\n",
        "# https://discuss.streamlit.io/t/how-to-download-file-in-streamlit/1806\n",
        "def filedownload(df):\n",
        "    csv = df.to_csv(index=False)\n",
        "    b64 = base64.b64encode(csv.encode()).decode()  # strings <-> bytes conversions\n",
        "    href = f'<a href=\"data:file/csv;base64,{b64}\" download=\"playerstats.csv\">Download CSV File</a>'\n",
        "    return href\n",
        "st.markdown(filedownload(df_selected_team), unsafe_allow_html=True)\n",
        "\n",
        "# Heatmap\n",
        "if st.button('Intercorrelation Heatmap'):\n",
        "    st.header('Intercorrelation Matrix Heatmap')\n",
        "    df_selected_team.to_csv('output.csv',index=False)\n",
        "    df = pd.read_csv('output.csv')\n",
        "\n",
        "    corr = df.corr()\n",
        "    mask = np.zeros_like(corr)\n",
        "    mask[np.triu_indices_from(mask)] = True\n",
        "    with sns.axes_style(\"white\"):\n",
        "        f, ax = plt.subplots(figsize=(7, 5))\n",
        "        ax = sns.heatmap(corr, mask=mask, vmax=1, square=True)\n",
        "    st.pyplot()\n"
      ],
      "metadata": {
        "colab": {
          "base_uri": "https://localhost:8080/"
        },
        "id": "nTTv8oLOUHwV",
        "outputId": "75843bbb-85c6-43d9-d938-dfc84ffa015b"
      },
      "execution_count": null,
      "outputs": [
        {
          "output_type": "stream",
          "name": "stdout",
          "text": [
            "Writing app.py\n"
          ]
        }
      ]
    },
    {
      "cell_type": "code",
      "source": [
        "# Web scraping of NFL player stats\n",
        "# https://www.pro-football-reference.com/years/2019/rushing.htm\n",
        "\n",
        "def load_data(year):\n",
        "    url = \"https://www.pro-football-reference.com/years/\" + str(year) + \"/rushing.htm\"\n",
        "    html = pd.read_html(url, header = 1)\n",
        "    df = html[0]\n",
        "    raw = df.drop(df[df.Age == 'Age'].index) # Deletes repeating headers in content\n",
        "    raw = raw.fillna(0)\n",
        "    playerstats = raw.drop(['Rk'], axis=1)\n",
        "    return playerstats\n",
        "\n",
        "    \n",
        "playerstats = load_data(selected_year)\n"
      ],
      "metadata": {
        "colab": {
          "base_uri": "https://localhost:8080/",
          "height": 201
        },
        "id": "MC-xv-_-UOgi",
        "outputId": "cf189676-92e4-40d3-8b35-92d8af1b0abb"
      },
      "execution_count": null,
      "outputs": [
        {
          "output_type": "error",
          "ename": "NameError",
          "evalue": "ignored",
          "traceback": [
            "\u001b[0;31m---------------------------------------------------------------------------\u001b[0m",
            "\u001b[0;31mNameError\u001b[0m                                 Traceback (most recent call last)",
            "\u001b[0;32m<ipython-input-3-65e942ffdcf5>\u001b[0m in \u001b[0;36m<module>\u001b[0;34m\u001b[0m\n\u001b[1;32m     12\u001b[0m \u001b[0;34m\u001b[0m\u001b[0m\n\u001b[1;32m     13\u001b[0m \u001b[0;34m\u001b[0m\u001b[0m\n\u001b[0;32m---> 14\u001b[0;31m \u001b[0mplayerstats\u001b[0m \u001b[0;34m=\u001b[0m \u001b[0mload_data\u001b[0m\u001b[0;34m(\u001b[0m\u001b[0mselected_year\u001b[0m\u001b[0;34m)\u001b[0m\u001b[0;34m\u001b[0m\u001b[0;34m\u001b[0m\u001b[0m\n\u001b[0m",
            "\u001b[0;31mNameError\u001b[0m: name 'selected_year' is not defined"
          ]
        }
      ]
    },
    {
      "cell_type": "code",
      "source": [
        "# Sidebar - Team selection\n",
        "sorted_unique_team = sorted(playerstats.Tm.unique())\n",
        "selected_team = st.sidebar.multiselect('Team', sorted_unique_team, sorted_unique_team)\n",
        "\n",
        "# Sidebar - Position selection\n",
        "unique_pos = ['RB','QB','WR','FB','TE']\n",
        "selected_pos = st.sidebar.multiselect('Position', unique_pos, unique_pos)\n",
        "\n",
        "# Filtering data\n",
        "df_selected_team = playerstats[(playerstats.Tm.isin(selected_team)) & (playerstats.Pos.isin(selected_pos))]\n",
        "\n",
        "st.header('Display Player Stats of Selected Team(s)')\n",
        "st.write('Data Dimension: ' + str(df_selected_team.shape[0]) + ' rows and ' + str(df_selected_team.shape[1]) + ' columns.')\n",
        "st.dataframe(df_selected_team)\n"
      ],
      "metadata": {
        "colab": {
          "base_uri": "https://localhost:8080/"
        },
        "id": "9cd-1ov8mysu",
        "outputId": "03170630-5487-4ad1-dedc-c73fbcf29d01"
      },
      "execution_count": null,
      "outputs": [
        {
          "output_type": "execute_result",
          "data": {
            "text/plain": [
              "DeltaGenerator(_root_container=0, _provided_cursor=None, _parent=None, _block_type=None, _form_data=None)"
            ]
          },
          "metadata": {},
          "execution_count": 4
        }
      ]
    },
    {
      "cell_type": "code",
      "source": [
        "# Download NBA player stats data\n",
        "# https://discuss.streamlit.io/t/how-to-download-file-in-streamlit/1806\n",
        "def filedownload(df):\n",
        "    csv = df.to_csv(index=False)\n",
        "    b64 = base64.b64encode(csv.encode()).decode()  # strings <-> bytes conversions\n",
        "    href = f'<a href=\"data:file/csv;base64,{b64}\" download=\"playerstats.csv\">Download CSV File</a>'\n",
        "    return href\n",
        "st.markdown(filedownload(df_selected_team), unsafe_allow_html=True)\n"
      ],
      "metadata": {
        "colab": {
          "base_uri": "https://localhost:8080/"
        },
        "id": "g06r9JJrm7xj",
        "outputId": "89549f61-7877-466e-e305-ab47c761c05b"
      },
      "execution_count": null,
      "outputs": [
        {
          "output_type": "execute_result",
          "data": {
            "text/plain": [
              "DeltaGenerator(_root_container=0, _provided_cursor=None, _parent=None, _block_type=None, _form_data=None)"
            ]
          },
          "metadata": {},
          "execution_count": 5
        }
      ]
    },
    {
      "cell_type": "code",
      "source": [
        "# Heatmap\n",
        "if st.button('Intercorrelation Heatmap'):\n",
        "    st.header('Intercorrelation Matrix Heatmap')\n",
        "    df_selected_team.to_csv('output.csv',index=False)\n",
        "    df = pd.read_csv('output.csv')\n",
        "\n",
        "    corr = df.corr()\n",
        "    mask = np.zeros_like(corr)\n",
        "    mask[np.triu_indices_from(mask)] = True\n",
        "    with sns.axes_style(\"white\"):\n",
        "        f, ax = plt.subplots(figsize=(7, 5))\n",
        "        ax = sns.heatmap(corr, mask=mask, vmax=1, square=True)\n",
        "    st.pyplot()"
      ],
      "metadata": {
        "id": "8DhztAZsnB3O"
      },
      "execution_count": null,
      "outputs": []
    },
    {
      "cell_type": "code",
      "source": [
        "!ls\n",
        "!ngrok\n",
        "!ngrok authtoken 22wpvz38TOXXS0BvZu7nIU0hOwc_6MG4tyP4hpzFHRKpt2642"
      ],
      "metadata": {
        "colab": {
          "base_uri": "https://localhost:8080/"
        },
        "id": "mQmsZ4proN6a",
        "outputId": "daec9ca8-8735-4aea-ae52-3e874186ce70"
      },
      "execution_count": null,
      "outputs": [
        {
          "output_type": "stream",
          "name": "stdout",
          "text": [
            "app.py\tsample_data\n",
            "NAME:\n",
            "   ngrok - tunnel local ports to public URLs and inspect traffic\n",
            "\n",
            "DESCRIPTION:\n",
            "    ngrok exposes local networked services behinds NATs and firewalls to the\n",
            "    public internet over a secure tunnel. Share local websites, build/test\n",
            "    webhook consumers and self-host personal services.\n",
            "    Detailed help for each command is available with 'ngrok help <command>'.\n",
            "    Open http://localhost:4040 for ngrok's web interface to inspect traffic.\n",
            "\n",
            "EXAMPLES:\n",
            "    ngrok http 80                    # secure public URL for port 80 web server\n",
            "    ngrok http -subdomain=baz 8080   # port 8080 available at baz.ngrok.io\n",
            "    ngrok http foo.dev:80            # tunnel to host:port instead of localhost\n",
            "    ngrok http https://localhost     # expose a local https server\n",
            "    ngrok tcp 22                     # tunnel arbitrary TCP traffic to port 22\n",
            "    ngrok tls -hostname=foo.com 443  # TLS traffic for foo.com to port 443\n",
            "    ngrok start foo bar baz          # start tunnels from the configuration file\n",
            "\n",
            "VERSION:\n",
            "   2.3.40\n",
            "\n",
            "AUTHOR:\n",
            "  inconshreveable - <alan@ngrok.com>\n",
            "\n",
            "COMMANDS:\n",
            "   authtoken\tsave authtoken to configuration file\n",
            "   credits\tprints author and licensing information\n",
            "   http\t\tstart an HTTP tunnel\n",
            "   start\tstart tunnels by name from the configuration file\n",
            "   tcp\t\tstart a TCP tunnel\n",
            "   tls\t\tstart a TLS tunnel\n",
            "   update\tupdate ngrok to the latest version\n",
            "   version\tprint the version string\n",
            "   help\t\tShows a list of commands or help for one command\n",
            "\n",
            "PYNGROK VERSION:\n",
            "   4.1.1\n",
            "Authtoken saved to configuration file: /root/.ngrok2/ngrok.yml\n"
          ]
        }
      ]
    },
    {
      "cell_type": "code",
      "source": [
        "!streamlit run app.py&>/dev/null&\n"
      ],
      "metadata": {
        "id": "UrDuENPdoPKn"
      },
      "execution_count": null,
      "outputs": []
    },
    {
      "cell_type": "code",
      "source": [
        "!pgrep streamlit"
      ],
      "metadata": {
        "colab": {
          "base_uri": "https://localhost:8080/"
        },
        "id": "MHvfOmDpuy6G",
        "outputId": "a942c927-162e-4236-cb53-3ec29519e0a4"
      },
      "execution_count": null,
      "outputs": [
        {
          "output_type": "stream",
          "name": "stdout",
          "text": [
            "218\n"
          ]
        }
      ]
    },
    {
      "cell_type": "code",
      "source": [
        "from pyngrok import ngrok"
      ],
      "metadata": {
        "id": "CTY3JFqJ4Y0e"
      },
      "execution_count": null,
      "outputs": []
    },
    {
      "cell_type": "code",
      "source": [
        "publ_url = ngrok.connect(port = '8501')\n"
      ],
      "metadata": {
        "colab": {
          "base_uri": "https://localhost:8080/"
        },
        "id": "HLp6IPQBu7Lk",
        "outputId": "ecf18588-1ec9-4d54-851f-4742af014c48"
      },
      "execution_count": null,
      "outputs": [
        {
          "output_type": "stream",
          "name": "stderr",
          "text": [
            "INFO:pyngrok.process:ngrok process starting: 233\n",
            "2022-10-04 02:55:51.147 INFO    pyngrok.process: ngrok process starting: 233\n",
            "INFO:pyngrok.process:t=2022-10-04T02:55:51+0000 lvl=info msg=\"no configuration paths supplied\"\n",
            "\n",
            "2022-10-04 02:55:51.179 INFO    pyngrok.process: t=2022-10-04T02:55:51+0000 lvl=info msg=\"no configuration paths supplied\"\n",
            "\n",
            "INFO:pyngrok.process:t=2022-10-04T02:55:51+0000 lvl=info msg=\"using configuration at default config path\" path=/root/.ngrok2/ngrok.yml\n",
            "\n",
            "2022-10-04 02:55:51.194 INFO    pyngrok.process: t=2022-10-04T02:55:51+0000 lvl=info msg=\"using configuration at default config path\" path=/root/.ngrok2/ngrok.yml\n",
            "\n",
            "INFO:pyngrok.process:t=2022-10-04T02:55:51+0000 lvl=info msg=\"open config file\" path=/root/.ngrok2/ngrok.yml err=nil\n",
            "\n",
            "2022-10-04 02:55:51.202 INFO    pyngrok.process: t=2022-10-04T02:55:51+0000 lvl=info msg=\"open config file\" path=/root/.ngrok2/ngrok.yml err=nil\n",
            "\n",
            "INFO:pyngrok.process:t=2022-10-04T02:55:51+0000 lvl=info msg=\"starting web service\" obj=web addr=127.0.0.1:4040\n",
            "\n",
            "2022-10-04 02:55:51.211 INFO    pyngrok.process: t=2022-10-04T02:55:51+0000 lvl=info msg=\"starting web service\" obj=web addr=127.0.0.1:4040\n",
            "\n",
            "INFO:pyngrok.process:t=2022-10-04T02:55:51+0000 lvl=info msg=\"tunnel session started\" obj=tunnels.session\n",
            "\n",
            "2022-10-04 02:55:51.432 INFO    pyngrok.process: t=2022-10-04T02:55:51+0000 lvl=info msg=\"tunnel session started\" obj=tunnels.session\n",
            "\n",
            "INFO:pyngrok.process:t=2022-10-04T02:55:51+0000 lvl=info msg=\"client session established\" obj=csess id=f55049294442\n",
            "\n",
            "2022-10-04 02:55:51.435 INFO    pyngrok.process: t=2022-10-04T02:55:51+0000 lvl=info msg=\"client session established\" obj=csess id=f55049294442\n",
            "\n",
            "INFO:pyngrok.process:ngrok process has started: http://127.0.0.1:4040\n",
            "2022-10-04 02:55:51.444 INFO    pyngrok.process: ngrok process has started: http://127.0.0.1:4040\n",
            "INFO:pyngrok.process:t=2022-10-04T02:55:51+0000 lvl=info msg=start pg=/api/tunnels id=524410730d48eb03\n",
            "\n",
            "2022-10-04 02:55:51.458 INFO    pyngrok.process: t=2022-10-04T02:55:51+0000 lvl=info msg=start pg=/api/tunnels id=524410730d48eb03\n",
            "\n",
            "INFO:pyngrok.process:t=2022-10-04T02:55:51+0000 lvl=info msg=end pg=/api/tunnels id=524410730d48eb03 status=200 dur=987.207µs\n",
            "\n",
            "2022-10-04 02:55:51.468 INFO    pyngrok.process: t=2022-10-04T02:55:51+0000 lvl=info msg=end pg=/api/tunnels id=524410730d48eb03 status=200 dur=987.207µs\n",
            "\n",
            "INFO:pyngrok.process:t=2022-10-04T02:55:51+0000 lvl=info msg=start pg=/api/tunnels id=9be6916b50c47588\n",
            "\n",
            "2022-10-04 02:55:51.471 INFO    pyngrok.process: t=2022-10-04T02:55:51+0000 lvl=info msg=start pg=/api/tunnels id=9be6916b50c47588\n",
            "\n",
            "INFO:pyngrok.process:t=2022-10-04T02:55:51+0000 lvl=info msg=end pg=/api/tunnels id=9be6916b50c47588 status=200 dur=182.078µs\n",
            "\n",
            "2022-10-04 02:55:51.474 INFO    pyngrok.process: t=2022-10-04T02:55:51+0000 lvl=info msg=end pg=/api/tunnels id=9be6916b50c47588 status=200 dur=182.078µs\n",
            "\n",
            "INFO:pyngrok.process:t=2022-10-04T02:55:51+0000 lvl=info msg=start pg=/api/tunnels id=e39219affcc3eb37\n",
            "\n",
            "2022-10-04 02:55:51.477 INFO    pyngrok.process: t=2022-10-04T02:55:51+0000 lvl=info msg=start pg=/api/tunnels id=e39219affcc3eb37\n",
            "\n",
            "INFO:pyngrok.process:t=2022-10-04T02:55:51+0000 lvl=info msg=\"started tunnel\" obj=tunnels name=\"http-8501-494a3f31-baf8-486e-b0f6-4b9fef2d3c30 (http)\" addr=http://localhost:8501 url=http://6cde-34-83-8-250.ngrok.io\n",
            "\n",
            "2022-10-04 02:55:51.634 INFO    pyngrok.process: t=2022-10-04T02:55:51+0000 lvl=info msg=\"started tunnel\" obj=tunnels name=\"http-8501-494a3f31-baf8-486e-b0f6-4b9fef2d3c30 (http)\" addr=http://localhost:8501 url=http://6cde-34-83-8-250.ngrok.io\n",
            "\n",
            "INFO:pyngrok.process:t=2022-10-04T02:55:51+0000 lvl=info msg=\"started tunnel\" obj=tunnels name=http-8501-494a3f31-baf8-486e-b0f6-4b9fef2d3c30 addr=http://localhost:8501 url=https://6cde-34-83-8-250.ngrok.io\n",
            "\n",
            "2022-10-04 02:55:51.640 INFO    pyngrok.process: t=2022-10-04T02:55:51+0000 lvl=info msg=\"started tunnel\" obj=tunnels name=http-8501-494a3f31-baf8-486e-b0f6-4b9fef2d3c30 addr=http://localhost:8501 url=https://6cde-34-83-8-250.ngrok.io\n",
            "\n",
            "INFO:pyngrok.process:t=2022-10-04T02:55:51+0000 lvl=info msg=end pg=/api/tunnels id=e39219affcc3eb37 status=201 dur=168.988512ms\n",
            "\n",
            "2022-10-04 02:55:51.651 INFO    pyngrok.process: t=2022-10-04T02:55:51+0000 lvl=info msg=end pg=/api/tunnels id=e39219affcc3eb37 status=201 dur=168.988512ms\n",
            "\n"
          ]
        }
      ]
    },
    {
      "cell_type": "code",
      "source": [
        "publ_url"
      ],
      "metadata": {
        "colab": {
          "base_uri": "https://localhost:8080/",
          "height": 35
        },
        "id": "iC0AmR_PvAgu",
        "outputId": "d03931f1-5f29-45e3-e7a5-a18e5aefbd92"
      },
      "execution_count": null,
      "outputs": [
        {
          "output_type": "execute_result",
          "data": {
            "text/plain": [
              "'http://6cde-34-83-8-250.ngrok.io'"
            ],
            "application/vnd.google.colaboratory.intrinsic+json": {
              "type": "string"
            }
          },
          "metadata": {},
          "execution_count": 8
        }
      ]
    }
  ]
}